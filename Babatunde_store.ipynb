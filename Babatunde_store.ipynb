{
 "cells": [
  {
   "cell_type": "code",
   "execution_count": 1,
   "id": "019dfe94-6534-4540-9e0a-90fd015d4429",
   "metadata": {},
   "outputs": [],
   "source": [
    "import pandas as pd\n",
    "import numpy as np\n",
    "import matplotlib.pyplot as plt\n",
    "import seaborn as sns\n",
    "sns.set_style('whitegrid')"
   ]
  },
  {
   "cell_type": "code",
   "execution_count": 2,
   "id": "2e695489-1cae-4006-91db-bc3657efed38",
   "metadata": {},
   "outputs": [],
   "source": [
    "df = pd.read_csv('excellent.csv')"
   ]
  },
  {
   "cell_type": "code",
   "execution_count": 3,
   "id": "88eae0c4-61b6-4c50-8967-b63f59131439",
   "metadata": {},
   "outputs": [
    {
     "data": {
      "text/html": [
       "<div>\n",
       "<style scoped>\n",
       "    .dataframe tbody tr th:only-of-type {\n",
       "        vertical-align: middle;\n",
       "    }\n",
       "\n",
       "    .dataframe tbody tr th {\n",
       "        vertical-align: top;\n",
       "    }\n",
       "\n",
       "    .dataframe thead th {\n",
       "        text-align: right;\n",
       "    }\n",
       "</style>\n",
       "<table border=\"1\" class=\"dataframe\">\n",
       "  <thead>\n",
       "    <tr style=\"text-align: right;\">\n",
       "      <th></th>\n",
       "      <th>Item_ID</th>\n",
       "      <th>Store_ID</th>\n",
       "      <th>Item_Store_ID</th>\n",
       "      <th>Item_Weight</th>\n",
       "      <th>Item_Sugar_Content</th>\n",
       "      <th>Item_Visibility</th>\n",
       "      <th>Item_Type</th>\n",
       "      <th>Item_Price</th>\n",
       "      <th>Store_Start_Year</th>\n",
       "      <th>Store_Size</th>\n",
       "      <th>Store_Location_Type</th>\n",
       "      <th>Store_Type</th>\n",
       "      <th>Item_Store_Returns</th>\n",
       "    </tr>\n",
       "  </thead>\n",
       "  <tbody>\n",
       "    <tr>\n",
       "      <th>0</th>\n",
       "      <td>DRA12</td>\n",
       "      <td>BABATUNJI010</td>\n",
       "      <td>DRA12_BABATUNJI010</td>\n",
       "      <td>11.6</td>\n",
       "      <td>Low Sugar</td>\n",
       "      <td>0.068535</td>\n",
       "      <td>Soft Drinks</td>\n",
       "      <td>357.54</td>\n",
       "      <td>2005</td>\n",
       "      <td>NaN</td>\n",
       "      <td>Cluster 3</td>\n",
       "      <td>Grocery Store</td>\n",
       "      <td>709.08</td>\n",
       "    </tr>\n",
       "    <tr>\n",
       "      <th>1</th>\n",
       "      <td>DRA12</td>\n",
       "      <td>BABATUNJI013</td>\n",
       "      <td>DRA12_BABATUNJI013</td>\n",
       "      <td>11.6</td>\n",
       "      <td>Low Sugar</td>\n",
       "      <td>0.040912</td>\n",
       "      <td>Soft Drinks</td>\n",
       "      <td>355.79</td>\n",
       "      <td>1994</td>\n",
       "      <td>High</td>\n",
       "      <td>Cluster 3</td>\n",
       "      <td>Supermarket Type1</td>\n",
       "      <td>6381.69</td>\n",
       "    </tr>\n",
       "    <tr>\n",
       "      <th>2</th>\n",
       "      <td>DRA12</td>\n",
       "      <td>BABATUNJI017</td>\n",
       "      <td>DRA12_BABATUNJI017</td>\n",
       "      <td>11.6</td>\n",
       "      <td>Low Sugar</td>\n",
       "      <td>0.041178</td>\n",
       "      <td>Soft Drinks</td>\n",
       "      <td>350.79</td>\n",
       "      <td>2014</td>\n",
       "      <td>NaN</td>\n",
       "      <td>Cluster 2</td>\n",
       "      <td>Supermarket Type1</td>\n",
       "      <td>6381.69</td>\n",
       "    </tr>\n",
       "    <tr>\n",
       "      <th>3</th>\n",
       "      <td>DRA12</td>\n",
       "      <td>BABATUNJI018</td>\n",
       "      <td>DRA12_BABATUNJI018</td>\n",
       "      <td>11.6</td>\n",
       "      <td>Low Sugar</td>\n",
       "      <td>0.041113</td>\n",
       "      <td>Soft Drinks</td>\n",
       "      <td>355.04</td>\n",
       "      <td>2016</td>\n",
       "      <td>Medium</td>\n",
       "      <td>Cluster 3</td>\n",
       "      <td>Supermarket Type2</td>\n",
       "      <td>2127.23</td>\n",
       "    </tr>\n",
       "    <tr>\n",
       "      <th>4</th>\n",
       "      <td>DRA12</td>\n",
       "      <td>BABATUNJI035</td>\n",
       "      <td>DRA12_BABATUNJI035</td>\n",
       "      <td>11.6</td>\n",
       "      <td>Ultra Low Sugar</td>\n",
       "      <td>0.000000</td>\n",
       "      <td>Soft Drinks</td>\n",
       "      <td>354.79</td>\n",
       "      <td>2011</td>\n",
       "      <td>Small</td>\n",
       "      <td>Cluster 2</td>\n",
       "      <td>Supermarket Type1</td>\n",
       "      <td>2481.77</td>\n",
       "    </tr>\n",
       "  </tbody>\n",
       "</table>\n",
       "</div>"
      ],
      "text/plain": [
       "  Item_ID      Store_ID       Item_Store_ID  Item_Weight Item_Sugar_Content  \\\n",
       "0   DRA12  BABATUNJI010  DRA12_BABATUNJI010         11.6          Low Sugar   \n",
       "1   DRA12  BABATUNJI013  DRA12_BABATUNJI013         11.6          Low Sugar   \n",
       "2   DRA12  BABATUNJI017  DRA12_BABATUNJI017         11.6          Low Sugar   \n",
       "3   DRA12  BABATUNJI018  DRA12_BABATUNJI018         11.6          Low Sugar   \n",
       "4   DRA12  BABATUNJI035  DRA12_BABATUNJI035         11.6    Ultra Low Sugar   \n",
       "\n",
       "   Item_Visibility    Item_Type  Item_Price  Store_Start_Year Store_Size  \\\n",
       "0         0.068535  Soft Drinks      357.54              2005        NaN   \n",
       "1         0.040912  Soft Drinks      355.79              1994       High   \n",
       "2         0.041178  Soft Drinks      350.79              2014        NaN   \n",
       "3         0.041113  Soft Drinks      355.04              2016     Medium   \n",
       "4         0.000000  Soft Drinks      354.79              2011      Small   \n",
       "\n",
       "  Store_Location_Type         Store_Type  Item_Store_Returns  \n",
       "0           Cluster 3      Grocery Store              709.08  \n",
       "1           Cluster 3  Supermarket Type1             6381.69  \n",
       "2           Cluster 2  Supermarket Type1             6381.69  \n",
       "3           Cluster 3  Supermarket Type2             2127.23  \n",
       "4           Cluster 2  Supermarket Type1             2481.77  "
      ]
     },
     "execution_count": 3,
     "metadata": {},
     "output_type": "execute_result"
    }
   ],
   "source": [
    "df.head()"
   ]
  },
  {
   "cell_type": "code",
   "execution_count": 42,
   "id": "c010b65a-262d-496e-9c6d-6be6607f2555",
   "metadata": {},
   "outputs": [
    {
     "data": {
      "text/plain": [
       "Index(['Item_ID', 'Store_ID', 'Item_Store_ID', 'Item_Weight',\n",
       "       'Item_Sugar_Content', 'Item_Visibility', 'Item_Type', 'Item_Price',\n",
       "       'Store_Start_Year', 'Store_Size', 'Store_Location_Type', 'Store_Type',\n",
       "       'Item_Store_Returns'],\n",
       "      dtype='object')"
      ]
     },
     "execution_count": 42,
     "metadata": {},
     "output_type": "execute_result"
    }
   ],
   "source": [
    "df.columns"
   ]
  },
  {
   "cell_type": "code",
   "execution_count": 4,
   "id": "b7947d05-0dd9-47e5-b4fd-2cf6f949ea4b",
   "metadata": {},
   "outputs": [
    {
     "data": {
      "text/plain": [
       "<bound method DataFrame.info of      Item_ID      Store_ID       Item_Store_ID  Item_Weight  \\\n",
       "0      DRA12  BABATUNJI010  DRA12_BABATUNJI010        11.60   \n",
       "1      DRA12  BABATUNJI013  DRA12_BABATUNJI013        11.60   \n",
       "2      DRA12  BABATUNJI017  DRA12_BABATUNJI017        11.60   \n",
       "3      DRA12  BABATUNJI018  DRA12_BABATUNJI018        11.60   \n",
       "4      DRA12  BABATUNJI035  DRA12_BABATUNJI035        11.60   \n",
       "...      ...           ...                 ...          ...   \n",
       "4985   NCZ54  BABATUNJI019  NCZ54_BABATUNJI019          NaN   \n",
       "4986   NCZ54  BABATUNJI027  NCZ54_BABATUNJI027          NaN   \n",
       "4987   NCZ54  BABATUNJI045  NCZ54_BABATUNJI045        14.65   \n",
       "4988   NCZ54  BABATUNJI046  NCZ54_BABATUNJI046        14.65   \n",
       "4989   NCZ54  BABATUNJI049  NCZ54_BABATUNJI049        14.65   \n",
       "\n",
       "     Item_Sugar_Content  Item_Visibility    Item_Type  Item_Price  \\\n",
       "0             Low Sugar         0.068535  Soft Drinks      357.54   \n",
       "1             Low Sugar         0.040912  Soft Drinks      355.79   \n",
       "2             Low Sugar         0.041178  Soft Drinks      350.79   \n",
       "3             Low Sugar         0.041113  Soft Drinks      355.04   \n",
       "4       Ultra Low Sugar         0.000000  Soft Drinks      354.79   \n",
       "...                 ...              ...          ...         ...   \n",
       "4985          Low Sugar         0.145952    Household      402.39   \n",
       "4986          Low Sugar         0.082956    Household      410.14   \n",
       "4987          Low Sugar         0.083528    Household      406.14   \n",
       "4988          Low Sugar         0.083359    Household      404.89   \n",
       "4989          Low Sugar         0.083489    Household      403.39   \n",
       "\n",
       "      Store_Start_Year Store_Size Store_Location_Type         Store_Type  \\\n",
       "0                 2005        NaN           Cluster 3      Grocery Store   \n",
       "1                 1994       High           Cluster 3  Supermarket Type1   \n",
       "2                 2014        NaN           Cluster 2  Supermarket Type1   \n",
       "3                 2016     Medium           Cluster 3  Supermarket Type2   \n",
       "4                 2011      Small           Cluster 2  Supermarket Type1   \n",
       "...                ...        ...                 ...                ...   \n",
       "4985              1992      Small           Cluster 1      Grocery Store   \n",
       "4986              1992     Medium           Cluster 3  Supermarket Type3   \n",
       "4987              2009        NaN           Cluster 2  Supermarket Type1   \n",
       "4988              2004      Small           Cluster 1  Supermarket Type1   \n",
       "4989              2006     Medium           Cluster 1  Supermarket Type1   \n",
       "\n",
       "      Item_Store_Returns  \n",
       "0                 709.08  \n",
       "1                6381.69  \n",
       "2                6381.69  \n",
       "3                2127.23  \n",
       "4                2481.77  \n",
       "...                  ...  \n",
       "4985              406.14  \n",
       "4986            13808.69  \n",
       "4987             5685.93  \n",
       "4988            11778.00  \n",
       "4989            17870.07  \n",
       "\n",
       "[4990 rows x 13 columns]>"
      ]
     },
     "execution_count": 4,
     "metadata": {},
     "output_type": "execute_result"
    }
   ],
   "source": [
    "df.info"
   ]
  },
  {
   "cell_type": "code",
   "execution_count": 5,
   "id": "94c4955e-80bc-427b-8814-4485645d1842",
   "metadata": {},
   "outputs": [
    {
     "data": {
      "text/plain": [
       "(4990, 13)"
      ]
     },
     "execution_count": 5,
     "metadata": {},
     "output_type": "execute_result"
    }
   ],
   "source": [
    "df.shape"
   ]
  },
  {
   "cell_type": "code",
   "execution_count": 6,
   "id": "c7cffc5e-ea53-4539-9e7b-2b8c53bbb445",
   "metadata": {},
   "outputs": [
    {
     "data": {
      "text/plain": [
       "Item_ID                   0\n",
       "Store_ID                  0\n",
       "Item_Store_ID             0\n",
       "Item_Weight             802\n",
       "Item_Sugar_Content        0\n",
       "Item_Visibility           0\n",
       "Item_Type                 0\n",
       "Item_Price                0\n",
       "Store_Start_Year          0\n",
       "Store_Size             1450\n",
       "Store_Location_Type       0\n",
       "Store_Type                0\n",
       "Item_Store_Returns        0\n",
       "dtype: int64"
      ]
     },
     "execution_count": 6,
     "metadata": {},
     "output_type": "execute_result"
    }
   ],
   "source": [
    "df.isnull().sum()"
   ]
  },
  {
   "cell_type": "code",
   "execution_count": 7,
   "id": "caf2debe-b51e-4ac1-b200-5ae9971a0627",
   "metadata": {},
   "outputs": [
    {
     "data": {
      "text/html": [
       "<div>\n",
       "<style scoped>\n",
       "    .dataframe tbody tr th:only-of-type {\n",
       "        vertical-align: middle;\n",
       "    }\n",
       "\n",
       "    .dataframe tbody tr th {\n",
       "        vertical-align: top;\n",
       "    }\n",
       "\n",
       "    .dataframe thead th {\n",
       "        text-align: right;\n",
       "    }\n",
       "</style>\n",
       "<table border=\"1\" class=\"dataframe\">\n",
       "  <thead>\n",
       "    <tr style=\"text-align: right;\">\n",
       "      <th></th>\n",
       "      <th>Item_ID</th>\n",
       "      <th>Store_ID</th>\n",
       "      <th>Item_Store_ID</th>\n",
       "      <th>Item_Weight</th>\n",
       "      <th>Item_Sugar_Content</th>\n",
       "      <th>Item_Visibility</th>\n",
       "      <th>Item_Type</th>\n",
       "      <th>Item_Price</th>\n",
       "      <th>Store_Start_Year</th>\n",
       "      <th>Store_Size</th>\n",
       "      <th>Store_Location_Type</th>\n",
       "      <th>Store_Type</th>\n",
       "      <th>Item_Store_Returns</th>\n",
       "    </tr>\n",
       "  </thead>\n",
       "  <tbody>\n",
       "    <tr>\n",
       "      <th>0</th>\n",
       "      <td>DRA12</td>\n",
       "      <td>BABATUNJI010</td>\n",
       "      <td>DRA12_BABATUNJI010</td>\n",
       "      <td>11.6</td>\n",
       "      <td>Low Sugar</td>\n",
       "      <td>0.068535</td>\n",
       "      <td>Soft Drinks</td>\n",
       "      <td>357.54</td>\n",
       "      <td>2005</td>\n",
       "      <td>Medium</td>\n",
       "      <td>Cluster 3</td>\n",
       "      <td>Grocery Store</td>\n",
       "      <td>709.08</td>\n",
       "    </tr>\n",
       "    <tr>\n",
       "      <th>1</th>\n",
       "      <td>DRA12</td>\n",
       "      <td>BABATUNJI013</td>\n",
       "      <td>DRA12_BABATUNJI013</td>\n",
       "      <td>11.6</td>\n",
       "      <td>Low Sugar</td>\n",
       "      <td>0.040912</td>\n",
       "      <td>Soft Drinks</td>\n",
       "      <td>355.79</td>\n",
       "      <td>1994</td>\n",
       "      <td>High</td>\n",
       "      <td>Cluster 3</td>\n",
       "      <td>Supermarket Type1</td>\n",
       "      <td>6381.69</td>\n",
       "    </tr>\n",
       "    <tr>\n",
       "      <th>2</th>\n",
       "      <td>DRA12</td>\n",
       "      <td>BABATUNJI017</td>\n",
       "      <td>DRA12_BABATUNJI017</td>\n",
       "      <td>11.6</td>\n",
       "      <td>Low Sugar</td>\n",
       "      <td>0.041178</td>\n",
       "      <td>Soft Drinks</td>\n",
       "      <td>350.79</td>\n",
       "      <td>2014</td>\n",
       "      <td>NaN</td>\n",
       "      <td>Cluster 2</td>\n",
       "      <td>Supermarket Type1</td>\n",
       "      <td>6381.69</td>\n",
       "    </tr>\n",
       "    <tr>\n",
       "      <th>3</th>\n",
       "      <td>DRA12</td>\n",
       "      <td>BABATUNJI018</td>\n",
       "      <td>DRA12_BABATUNJI018</td>\n",
       "      <td>11.6</td>\n",
       "      <td>Low Sugar</td>\n",
       "      <td>0.041113</td>\n",
       "      <td>Soft Drinks</td>\n",
       "      <td>355.04</td>\n",
       "      <td>2016</td>\n",
       "      <td>Medium</td>\n",
       "      <td>Cluster 3</td>\n",
       "      <td>Supermarket Type2</td>\n",
       "      <td>2127.23</td>\n",
       "    </tr>\n",
       "    <tr>\n",
       "      <th>4</th>\n",
       "      <td>DRA12</td>\n",
       "      <td>BABATUNJI035</td>\n",
       "      <td>DRA12_BABATUNJI035</td>\n",
       "      <td>11.6</td>\n",
       "      <td>Ultra Low Sugar</td>\n",
       "      <td>0.000000</td>\n",
       "      <td>Soft Drinks</td>\n",
       "      <td>354.79</td>\n",
       "      <td>2011</td>\n",
       "      <td>Small</td>\n",
       "      <td>Cluster 2</td>\n",
       "      <td>Supermarket Type1</td>\n",
       "      <td>2481.77</td>\n",
       "    </tr>\n",
       "  </tbody>\n",
       "</table>\n",
       "</div>"
      ],
      "text/plain": [
       "  Item_ID      Store_ID       Item_Store_ID  Item_Weight Item_Sugar_Content  \\\n",
       "0   DRA12  BABATUNJI010  DRA12_BABATUNJI010         11.6          Low Sugar   \n",
       "1   DRA12  BABATUNJI013  DRA12_BABATUNJI013         11.6          Low Sugar   \n",
       "2   DRA12  BABATUNJI017  DRA12_BABATUNJI017         11.6          Low Sugar   \n",
       "3   DRA12  BABATUNJI018  DRA12_BABATUNJI018         11.6          Low Sugar   \n",
       "4   DRA12  BABATUNJI035  DRA12_BABATUNJI035         11.6    Ultra Low Sugar   \n",
       "\n",
       "   Item_Visibility    Item_Type  Item_Price  Store_Start_Year Store_Size  \\\n",
       "0         0.068535  Soft Drinks      357.54              2005     Medium   \n",
       "1         0.040912  Soft Drinks      355.79              1994       High   \n",
       "2         0.041178  Soft Drinks      350.79              2014        NaN   \n",
       "3         0.041113  Soft Drinks      355.04              2016     Medium   \n",
       "4         0.000000  Soft Drinks      354.79              2011      Small   \n",
       "\n",
       "  Store_Location_Type         Store_Type  Item_Store_Returns  \n",
       "0           Cluster 3      Grocery Store              709.08  \n",
       "1           Cluster 3  Supermarket Type1             6381.69  \n",
       "2           Cluster 2  Supermarket Type1             6381.69  \n",
       "3           Cluster 3  Supermarket Type2             2127.23  \n",
       "4           Cluster 2  Supermarket Type1             2481.77  "
      ]
     },
     "execution_count": 7,
     "metadata": {},
     "output_type": "execute_result"
    }
   ],
   "source": [
    "df['Item_Weight'].fillna(value = df['Item_Weight'].mean(), inplace=True)\n",
    "df['Store_Size'].fillna(value = df['Store_Size'].mode(), inplace=True)\n",
    "df.head()"
   ]
  },
  {
   "cell_type": "code",
   "execution_count": 8,
   "id": "26da72c3-c26d-4c61-bf29-002513148ae8",
   "metadata": {},
   "outputs": [
    {
     "data": {
      "text/plain": [
       "'Fruits and Vegetables'"
      ]
     },
     "execution_count": 8,
     "metadata": {},
     "output_type": "execute_result"
    }
   ],
   "source": [
    "product = df.groupby('Item_Type')['Item_Store_Returns'].sum()\n",
    "product.idxmax()"
   ]
  },
  {
   "cell_type": "code",
   "execution_count": 47,
   "id": "e66e9e80-2a27-4c64-8d64-56673c4c92b5",
   "metadata": {},
   "outputs": [
    {
     "data": {
      "image/png": "[encoded data removed]",
      "text/plain": [
       "<Figure size 720x720 with 1 Axes>"
      ]
     },
     "metadata": {},
     "output_type": "display_data"
    }
   ],
   "source": [
    "sns.barplot( y = 'Item_Type', x = 'Item_Store_Returns', data = df)\n",
    "plt.rcParams['figure.figsize'] = 15, 20\n",
    "plt.show()"
   ]
  },
  {
   "cell_type": "code",
   "execution_count": 13,
   "id": "f9badddd-9424-4037-b46d-dd940779e89a",
   "metadata": {},
   "outputs": [],
   "source": [
    "Sir, i dont know why this is given me a contrary result from the code and graph with the same data? "
   ]
  },
  {
   "cell_type": "code",
   "execution_count": 9,
   "id": "2b405e1b-9c4a-4f93-b41e-aa537ca1efb3",
   "metadata": {},
   "outputs": [
    {
     "data": {
      "text/plain": [
       "10"
      ]
     },
     "execution_count": 9,
     "metadata": {},
     "output_type": "execute_result"
    }
   ],
   "source": [
    "df.Store_ID.nunique()"
   ]
  },
  {
   "cell_type": "code",
   "execution_count": 11,
   "id": "476a2f67-00bb-413e-849f-7d1ea367a1ee",
   "metadata": {},
   "outputs": [],
   "source": [
    "st = df.groupby('Store_ID')['Item_Store_Returns'].sum()"
   ]
  },
  {
   "cell_type": "code",
   "execution_count": 12,
   "id": "e9ade3af-fa9a-4fa7-915e-7fc6c381ce47",
   "metadata": {},
   "outputs": [
    {
     "name": "stdout",
     "output_type": "stream",
     "text": [
      "BABATUNJI027\n"
     ]
    }
   ],
   "source": [
    "print(st.idxmax())"
   ]
  },
  {
   "cell_type": "code",
   "execution_count": 22,
   "id": "35d6a36c-34ab-4840-85ed-7f3bc544cbce",
   "metadata": {},
   "outputs": [
    {
     "data": {
      "image/png": "[encoded data removed]",
      "text/plain": [
       "<Figure size 1080x1080 with 1 Axes>"
      ]
     },
     "metadata": {},
     "output_type": "display_data"
    }
   ],
   "source": [
    "sns.barplot(y = 'Item_Store_Returns', x = 'Store_ID', data = df)\n",
    "plt.rcParams['figure.figsize'] = [10,25]\n",
    "plt.show()"
   ]
  },
  {
   "cell_type": "code",
   "execution_count": null,
   "id": "e7f11dcc-a32e-48f6-90f0-fb8b5f593639",
   "metadata": {},
   "outputs": [],
   "source": [
    "The result shows Babatunji027 store has the highest Item store returns compare to other stores while Babatunji store has lowest item store returns"
   ]
  },
  {
   "cell_type": "code",
   "execution_count": 58,
   "id": "4fef9e48-670c-4bf8-8c52-eefdef2dc5f7",
   "metadata": {},
   "outputs": [
    {
     "data": {
      "text/plain": [
       "'Fruits and Vegetables'"
      ]
     },
     "execution_count": 58,
     "metadata": {},
     "output_type": "execute_result"
    }
   ],
   "source": [
    "bab = df[df['Store_ID'] == 'BABATUNJI027']\n",
    "bab.groupby('Item_Type')['Item_Store_Returns'].sum().idxmax()"
   ]
  },
  {
   "cell_type": "code",
   "execution_count": 13,
   "id": "231e2a07-76f6-4a60-b081-1a5eb00995f2",
   "metadata": {},
   "outputs": [
    {
     "name": "stdout",
     "output_type": "stream",
     "text": [
      "in storeBABATUNJI010, the highest profit was on Household product\n",
      "in storeBABATUNJI010, the lowest profit was on Seafood product\n",
      "\n",
      "in storeBABATUNJI013, the highest profit was on Snack Foods product\n",
      "in storeBABATUNJI013, the lowest profit was on Seafood product\n",
      "\n",
      "in storeBABATUNJI017, the highest profit was on Fruits and Vegetables product\n",
      "in storeBABATUNJI017, the lowest profit was on Seafood product\n",
      "\n",
      "in storeBABATUNJI018, the highest profit was on Snack Foods product\n",
      "in storeBABATUNJI018, the lowest profit was on Breakfast product\n",
      "\n",
      "in storeBABATUNJI035, the highest profit was on Snack Foods product\n",
      "in storeBABATUNJI035, the lowest profit was on Seafood product\n",
      "\n",
      "in storeBABATUNJI045, the highest profit was on Fruits and Vegetables product\n",
      "in storeBABATUNJI045, the lowest profit was on Breakfast product\n",
      "\n",
      "in storeBABATUNJI019, the highest profit was on Snack Foods product\n",
      "in storeBABATUNJI019, the lowest profit was on Starchy Foods product\n",
      "\n",
      "in storeBABATUNJI027, the highest profit was on Fruits and Vegetables product\n",
      "in storeBABATUNJI027, the lowest profit was on Seafood product\n",
      "\n",
      "in storeBABATUNJI049, the highest profit was on Fruits and Vegetables product\n",
      "in storeBABATUNJI049, the lowest profit was on Seafood product\n",
      "\n",
      "in storeBABATUNJI046, the highest profit was on Snack Foods product\n",
      "in storeBABATUNJI046, the lowest profit was on Breakfast product\n",
      "\n"
     ]
    }
   ],
   "source": [
    "for store in df['Store_ID'].unique():\n",
    "    a = df[df['Store_ID'] == store].groupby('Item_Type')['Item_Store_Returns'].sum().idxmax()\n",
    "    b = df[df['Store_ID'] == store].groupby('Item_Type')['Item_Store_Returns'].sum().idxmin()\n",
    "    print(f'in store{store}, the highest profit was on {a} product')\n",
    "    print(f'in store{store}, the lowest profit was on {b} product\\n')"
   ]
  },
  {
   "cell_type": "code",
   "execution_count": null,
   "id": "737daf7b-a73c-44fc-8f45-a93682e42ebe",
   "metadata": {},
   "outputs": [],
   "source": [
    " Babatunji027 store who has the highest item store return, realised more money on Fruits and vegetables product \n",
    "and realised lowest returns on seafood product. four stores made highest return on Fruit and vegetables product\n",
    "while, five stores made more return on snack food product and only single store made more profit on Household product.\n",
    "Meanwhile, six (6) stores had lowest returns on seafood product, three(3) stores made lowest return on breakfast product and \n",
    "one(1) store on Starchy food product."
   ]
  },
  {
   "cell_type": "code",
   "execution_count": 14,
   "id": "113b6cbc-dd4e-4ba3-a9fc-db356c1076ca",
   "metadata": {},
   "outputs": [
    {
     "data": {
      "text/plain": [
       "'Cluster 2'"
      ]
     },
     "execution_count": 14,
     "metadata": {},
     "output_type": "execute_result"
    }
   ],
   "source": [
    "location = df.groupby('Store_Location_Type')['Item_Store_Returns']\n",
    "location.sum().idxmax()"
   ]
  },
  {
   "cell_type": "code",
   "execution_count": 29,
   "id": "54644854-cceb-44c8-b9da-2f926bf06f7e",
   "metadata": {},
   "outputs": [
    {
     "data": {
      "image/png": "[encoded data removed]",
      "text/plain": [
       "<Figure size 360x360 with 1 Axes>"
      ]
     },
     "metadata": {},
     "output_type": "display_data"
    }
   ],
   "source": [
    "sns.barplot(y = 'Item_Store_Returns', x = 'Store_Location_Type', data = df)\n",
    "plt.rcParams['figure.figsize'] = [15,20]\n",
    "plt.show()"
   ]
  },
  {
   "cell_type": "code",
   "execution_count": 49,
   "id": "8fb8f837-14c2-4115-bc91-11f9ebf09eb6",
   "metadata": {},
   "outputs": [],
   "source": [
    "## Store in cluster 2 made more profit follow by cluster 3 and cluster 1 made least"
   ]
  },
  {
   "cell_type": "code",
   "execution_count": 15,
   "id": "b87fe08b-6fb2-4135-bc2d-3b0e5c7b8260",
   "metadata": {},
   "outputs": [
    {
     "data": {
      "text/html": [
       "<div>\n",
       "<style scoped>\n",
       "    .dataframe tbody tr th:only-of-type {\n",
       "        vertical-align: middle;\n",
       "    }\n",
       "\n",
       "    .dataframe tbody tr th {\n",
       "        vertical-align: top;\n",
       "    }\n",
       "\n",
       "    .dataframe thead th {\n",
       "        text-align: right;\n",
       "    }\n",
       "</style>\n",
       "<table border=\"1\" class=\"dataframe\">\n",
       "  <thead>\n",
       "    <tr style=\"text-align: right;\">\n",
       "      <th></th>\n",
       "      <th>Item_ID</th>\n",
       "      <th>Store_ID</th>\n",
       "      <th>Item_Store_ID</th>\n",
       "      <th>Item_Weight</th>\n",
       "      <th>Item_Sugar_Content</th>\n",
       "      <th>Item_Visibility</th>\n",
       "      <th>Item_Type</th>\n",
       "      <th>Item_Price</th>\n",
       "      <th>Store_Start_Year</th>\n",
       "      <th>Store_Size</th>\n",
       "      <th>Store_Location_Type</th>\n",
       "      <th>Store_Type</th>\n",
       "      <th>Item_Store_Returns</th>\n",
       "      <th>Store_Age</th>\n",
       "    </tr>\n",
       "  </thead>\n",
       "  <tbody>\n",
       "    <tr>\n",
       "      <th>0</th>\n",
       "      <td>DRA12</td>\n",
       "      <td>BABATUNJI010</td>\n",
       "      <td>DRA12_BABATUNJI010</td>\n",
       "      <td>11.6</td>\n",
       "      <td>Low Sugar</td>\n",
       "      <td>0.068535</td>\n",
       "      <td>Soft Drinks</td>\n",
       "      <td>357.54</td>\n",
       "      <td>2005</td>\n",
       "      <td>Medium</td>\n",
       "      <td>Cluster 3</td>\n",
       "      <td>Grocery Store</td>\n",
       "      <td>709.08</td>\n",
       "      <td>17</td>\n",
       "    </tr>\n",
       "    <tr>\n",
       "      <th>1</th>\n",
       "      <td>DRA12</td>\n",
       "      <td>BABATUNJI013</td>\n",
       "      <td>DRA12_BABATUNJI013</td>\n",
       "      <td>11.6</td>\n",
       "      <td>Low Sugar</td>\n",
       "      <td>0.040912</td>\n",
       "      <td>Soft Drinks</td>\n",
       "      <td>355.79</td>\n",
       "      <td>1994</td>\n",
       "      <td>High</td>\n",
       "      <td>Cluster 3</td>\n",
       "      <td>Supermarket Type1</td>\n",
       "      <td>6381.69</td>\n",
       "      <td>28</td>\n",
       "    </tr>\n",
       "    <tr>\n",
       "      <th>2</th>\n",
       "      <td>DRA12</td>\n",
       "      <td>BABATUNJI017</td>\n",
       "      <td>DRA12_BABATUNJI017</td>\n",
       "      <td>11.6</td>\n",
       "      <td>Low Sugar</td>\n",
       "      <td>0.041178</td>\n",
       "      <td>Soft Drinks</td>\n",
       "      <td>350.79</td>\n",
       "      <td>2014</td>\n",
       "      <td>NaN</td>\n",
       "      <td>Cluster 2</td>\n",
       "      <td>Supermarket Type1</td>\n",
       "      <td>6381.69</td>\n",
       "      <td>8</td>\n",
       "    </tr>\n",
       "    <tr>\n",
       "      <th>3</th>\n",
       "      <td>DRA12</td>\n",
       "      <td>BABATUNJI018</td>\n",
       "      <td>DRA12_BABATUNJI018</td>\n",
       "      <td>11.6</td>\n",
       "      <td>Low Sugar</td>\n",
       "      <td>0.041113</td>\n",
       "      <td>Soft Drinks</td>\n",
       "      <td>355.04</td>\n",
       "      <td>2016</td>\n",
       "      <td>Medium</td>\n",
       "      <td>Cluster 3</td>\n",
       "      <td>Supermarket Type2</td>\n",
       "      <td>2127.23</td>\n",
       "      <td>6</td>\n",
       "    </tr>\n",
       "    <tr>\n",
       "      <th>4</th>\n",
       "      <td>DRA12</td>\n",
       "      <td>BABATUNJI035</td>\n",
       "      <td>DRA12_BABATUNJI035</td>\n",
       "      <td>11.6</td>\n",
       "      <td>Ultra Low Sugar</td>\n",
       "      <td>0.000000</td>\n",
       "      <td>Soft Drinks</td>\n",
       "      <td>354.79</td>\n",
       "      <td>2011</td>\n",
       "      <td>Small</td>\n",
       "      <td>Cluster 2</td>\n",
       "      <td>Supermarket Type1</td>\n",
       "      <td>2481.77</td>\n",
       "      <td>11</td>\n",
       "    </tr>\n",
       "  </tbody>\n",
       "</table>\n",
       "</div>"
      ],
      "text/plain": [
       "  Item_ID      Store_ID       Item_Store_ID  Item_Weight Item_Sugar_Content  \\\n",
       "0   DRA12  BABATUNJI010  DRA12_BABATUNJI010         11.6          Low Sugar   \n",
       "1   DRA12  BABATUNJI013  DRA12_BABATUNJI013         11.6          Low Sugar   \n",
       "2   DRA12  BABATUNJI017  DRA12_BABATUNJI017         11.6          Low Sugar   \n",
       "3   DRA12  BABATUNJI018  DRA12_BABATUNJI018         11.6          Low Sugar   \n",
       "4   DRA12  BABATUNJI035  DRA12_BABATUNJI035         11.6    Ultra Low Sugar   \n",
       "\n",
       "   Item_Visibility    Item_Type  Item_Price  Store_Start_Year Store_Size  \\\n",
       "0         0.068535  Soft Drinks      357.54              2005     Medium   \n",
       "1         0.040912  Soft Drinks      355.79              1994       High   \n",
       "2         0.041178  Soft Drinks      350.79              2014        NaN   \n",
       "3         0.041113  Soft Drinks      355.04              2016     Medium   \n",
       "4         0.000000  Soft Drinks      354.79              2011      Small   \n",
       "\n",
       "  Store_Location_Type         Store_Type  Item_Store_Returns  Store_Age  \n",
       "0           Cluster 3      Grocery Store              709.08         17  \n",
       "1           Cluster 3  Supermarket Type1             6381.69         28  \n",
       "2           Cluster 2  Supermarket Type1             6381.69          8  \n",
       "3           Cluster 3  Supermarket Type2             2127.23          6  \n",
       "4           Cluster 2  Supermarket Type1             2481.77         11  "
      ]
     },
     "execution_count": 15,
     "metadata": {},
     "output_type": "execute_result"
    }
   ],
   "source": [
    "df['Store_Age'] = 2022 - df['Store_Start_Year']\n",
    "df.head()"
   ]
  },
  {
   "cell_type": "code",
   "execution_count": 21,
   "id": "267f4313-2c1a-4708-949e-6c25db603fb0",
   "metadata": {},
   "outputs": [
    {
     "data": {
      "image/png": "[encoded data removed]",
      "text/plain": [
       "<Figure size 720x720 with 1 Axes>"
      ]
     },
     "metadata": {},
     "output_type": "display_data"
    }
   ],
   "source": [
    "sns.barplot(y = 'Item_Store_Returns', x = 'Store_Age', data = df)\n",
    "plt.rcParams['figure.figsize'] = [10,10]\n",
    "plt.show()"
   ]
  },
  {
   "cell_type": "code",
   "execution_count": null,
   "id": "686d8b84-51ad-46b8-b1a5-df8ebcb9a027",
   "metadata": {},
   "outputs": [],
   "source": [
    "it shows the item store return its not the function of the store age"
   ]
  },
  {
   "cell_type": "code",
   "execution_count": 20,
   "id": "9cdc9b88-97f6-4177-9e59-886b920e9545",
   "metadata": {},
   "outputs": [
    {
     "name": "stdout",
     "output_type": "stream",
     "text": [
      "Medium\n"
     ]
    }
   ],
   "source": [
    "product = df.groupby('Store_Size')['Item_Store_Returns'].sum()\n",
    "print(product.idxmax())"
   ]
  },
  {
   "cell_type": "code",
   "execution_count": 27,
   "id": "cd979a9d-1714-4ae9-afd3-b9aa7b6cdbea",
   "metadata": {},
   "outputs": [
    {
     "data": {
      "image/png": "[encoded data removed]",
      "text/plain": [
       "<Figure size 720x720 with 1 Axes>"
      ]
     },
     "metadata": {},
     "output_type": "display_data"
    }
   ],
   "source": [
    "sns.barplot(y = 'Item_Store_Returns', x = 'Store_Size', data = df)\n",
    "plt.show()"
   ]
  },
  {
   "cell_type": "code",
   "execution_count": 42,
   "id": "547fa2ad-5716-4a5a-a5dc-dec3611b7dc7",
   "metadata": {},
   "outputs": [],
   "source": [
    "## conclusion"
   ]
  },
  {
   "cell_type": "code",
   "execution_count": null,
   "id": "2dd1b0f5-c2d9-4dda-a791-def5a22c1d38",
   "metadata": {},
   "outputs": [],
   "source": [
    "from my analysis above, it was affirmed that some product had much more returns than other, which has earlier stated above and two top food products\n",
    "with highest store returns were vegetables and fruits product, and snacks food product, while the food product with least store returns were \n",
    "seafood product and breakfast food product which can be deduced from all the store except a store with least store return in starch food product.\n",
    "It was also discovered that medium store size has much more item store returns, follow by small store size, while the high store size realized \n",
    "the least item store returns.\n",
    "Furthermore, the store location type in cluster 2 had much more item store return, follow by the store location type in cluster 3 while the \n",
    "store location type in cluster 2 has the lowest item store returns.\n",
    "Moreover, item store return was not the function of the store age.\n",
    "In conclusion, I hereby recomend based on the analysis above that the new store should be a medium store size or at least a small store size and\n",
    "be located in cluster 2 store location type and cluster3 store location type can also be fairly considered in case that of cluster2\n",
    "is unavailable. It is also highly recommended that Vegetables and Fruits food product, and Snacks food Product should also be considered as \n",
    "items type."
   ]
  }
 ],
 "metadata": {
  "kernelspec": {
   "display_name": "Python 3 (ipykernel)",
   "language": "python",
   "name": "python3"
  },
  "language_info": {
   "codemirror_mode": {
    "name": "ipython",
    "version": 3
   },
   "file_extension": ".py",
   "mimetype": "text/x-python",
   "name": "python",
   "nbconvert_exporter": "python",
   "pygments_lexer": "ipython3",
   "version": "3.9.7"
  }
 },
 "nbformat": 4,
 "nbformat_minor": 5
}
